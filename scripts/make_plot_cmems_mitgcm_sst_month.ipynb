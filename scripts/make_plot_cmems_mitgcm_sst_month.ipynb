{
 "cells": [
  {
   "cell_type": "code",
   "execution_count": 1,
   "metadata": {},
   "outputs": [],
   "source": [
    "## Import libraries\n",
    "import sys\n",
    "import matplotlib\n",
    "# Set the backend\n",
    "matplotlib.use('webAgg')  # Use 'Qt5Agg', 'nbAgg', or 'webAgg' depending on environment\n",
    "import numpy as np\n",
    "import netCDF4 as nc\n",
    "import matplotlib.pyplot as plt\n",
    "import matplotlib.dates as mdates\n",
    "from pathlib import Path\n",
    "\n"
   ]
  },
  {
   "cell_type": "code",
   "execution_count": 2,
   "metadata": {},
   "outputs": [],
   "source": [
    "## Get current working directory\n",
    "if hasattr(sys, \"ps1\"):\n",
    "    cwd = Path.cwd() # interactive window\n",
    "else:\n",
    "    cwd = str(Path(__file__).resolve().parent.parent) # command line\n",
    "\n"
   ]
  },
  {
   "cell_type": "code",
   "execution_count": 3,
   "metadata": {},
   "outputs": [
    {
     "ename": "ModuleNotFoundError",
     "evalue": "No module named 'spitbran_config'",
     "output_type": "error",
     "traceback": [
      "\u001b[0;31m---------------------------------------------------------------------------\u001b[0m",
      "\u001b[0;31mModuleNotFoundError\u001b[0m                       Traceback (most recent call last)",
      "Cell \u001b[0;32mIn[3], line 9\u001b[0m\n\u001b[1;32m      4\u001b[0m     sys\u001b[38;5;241m.\u001b[39mpath\u001b[38;5;241m.\u001b[39mappend(\u001b[38;5;28mstr\u001b[39m(cwd))\n\u001b[1;32m      6\u001b[0m \u001b[38;5;66;03m# print(f\"cwd: {cwd}\")\u001b[39;00m\n\u001b[1;32m      7\u001b[0m \u001b[38;5;66;03m# print(f\"sys.path: {sys.path}\")\u001b[39;00m\n\u001b[0;32m----> 9\u001b[0m \u001b[38;5;28;01mimport\u001b[39;00m \u001b[38;5;21;01mspitbran_config\u001b[39;00m\n\u001b[1;32m     10\u001b[0m \u001b[38;5;28;01mfrom\u001b[39;00m \u001b[38;5;21;01mlib\u001b[39;00m \u001b[38;5;28;01mimport\u001b[39;00m my_sys_utilities\n\u001b[1;32m     11\u001b[0m \u001b[38;5;28;01mfrom\u001b[39;00m \u001b[38;5;21;01mlib\u001b[39;00m \u001b[38;5;28;01mimport\u001b[39;00m my_plot_utilities\n",
      "\u001b[0;31mModuleNotFoundError\u001b[0m: No module named 'spitbran_config'"
     ]
    }
   ],
   "source": [
    "## Import local settings and liabraries\n",
    "# Add the script parent directory to sys.path to allow importing lib in command line execution mode\n",
    "if str(cwd) not in sys.path:\n",
    "    sys.path.append(str(cwd))\n",
    "\n",
    "# print(f\"cwd: {cwd}\")\n",
    "# print(f\"sys.path: {sys.path}\")\n",
    "\n",
    "import spitbran_config\n",
    "from lib import my_sys_utilities\n",
    "from lib import my_plot_utilities\n",
    "from lib import my_nc_utilities\n",
    "import importlib\n",
    "\n",
    "## Reload modules after changes occurred (comment out once done)\n",
    "importlib.reload(spitbran_config)\n",
    "importlib.reload(my_sys_utilities)\n",
    "importlib.reload(my_plot_utilities)\n",
    "importlib.reload(my_nc_utilities)\n"
   ]
  },
  {
   "cell_type": "code",
   "execution_count": null,
   "metadata": {},
   "outputs": [],
   "source": [
    "## Get target date and variable\n",
    "target_date = my_sys_utilities.get_target_date(\n",
    "    \"201301\",\n",
    "    \"YYYYMM\",\n",
    ")\n",
    "target_var = \"so\"\n"
   ]
  },
  {
   "cell_type": "code",
   "execution_count": null,
   "metadata": {},
   "outputs": [],
   "source": [
    "## Search data directories for files related to target month\n",
    "# CMEMS\n",
    "c_time, c_var, c_var_long_name, c_var_units = my_nc_utilities.get_c_data(\n",
    "    spitbran_config.cfg_data_base_dirs['c'],\n",
    "    target_date,\n",
    "    spitbran_config.cfg_latitude,\n",
    "    spitbran_config.cfg_longitude,\n",
    "    spitbran_config.cfg_depth_index,\n",
    "    target_var\n",
    ")\n",
    "# MITgcm-BFM\n",
    "m_time, m_var, m_var_d = my_nc_utilities.get_m_data(\n",
    "    spitbran_config.cfg_data_base_dirs['m'],\n",
    "    target_date,\n",
    "    spitbran_config.cfg_latitude,\n",
    "    spitbran_config.cfg_longitude,\n",
    "    spitbran_config.cfg_depth_index,\n",
    "    target_var,\n",
    "    True,\n",
    ")\n"
   ]
  },
  {
   "cell_type": "code",
   "execution_count": null,
   "metadata": {},
   "outputs": [],
   "source": [
    "## Reset settinngs and close any previous plots\n",
    "plt.rcdefaults()\n",
    "plt.close('all')\n",
    "# Disable automatic browser opening\n",
    "matplotlib.rcParams['webagg.open_in_browser'] = False\n"
   ]
  },
  {
   "cell_type": "code",
   "execution_count": null,
   "metadata": {},
   "outputs": [],
   "source": [
    "## Plot the temperature curves\n",
    "fig = plt.figure(num=1, figsize=(10, 6), dpi=100)\n",
    "fig.clf()\n",
    "ax = fig.add_subplot(111)  \n",
    "line1, = ax.plot(c_time, c_var, marker=\".\", linestyle=\"solid\", color=f\"{spitbran_config.cfg_colours['ref']}\", label=\"CMEMS\")\n",
    "line2, = ax.plot(m_time, m_var, marker=\".\", linestyle=\"solid\", color=f\"{spitbran_config.cfg_colours['model']}\", label=\"MITgcm-BFM\")\n",
    "if m_var_d:\n",
    "    line3, = ax.plot(c_time, m_var_d, marker=\".\", linestyle=\"solid\", color=f\"{spitbran_config.cfg_colours['model_avg']}\", label=\"MITgcm-BFM - Daily Avg\")\n",
    "\n",
    "# Format the x-axis times\n",
    "ax.xaxis.set_major_formatter(mdates.DateFormatter('%Y-%m-%d %H:%M'))\n",
    "ax.xaxis.set_major_locator(mdates.AutoDateLocator())\n",
    "\n",
    "# Add title, labels, and grid\n",
    "fig.suptitle(f\"Curve for var {c_var_long_name} ({c_var_units}) for the Month {target_date}\")\n",
    "# ax.autoscale()  # Reset axes to fit the data\n",
    "ax.set_xlabel(\"Date\")\n",
    "ax.set_ylabel(f\"{target_var} ({c_var_units})\")\n",
    "ax.grid(True)\n"
   ]
  },
  {
   "cell_type": "code",
   "execution_count": null,
   "metadata": {},
   "outputs": [],
   "source": [
    "## Add an interactive legend\n",
    "legend = ax.legend(loc=\"upper right\", title=\"Click to toggle visibility\", fancybox=True)\n",
    "lines = [line1, line2]\n",
    "if m_var_d:\n",
    "    lines.append(line3)\n",
    "# Enable picking on legend items\n",
    "for legend_line in legend.get_lines():\n",
    "    legend_line.set_picker(True)\n",
    "    print(f\"Legend item picker enabled: {legend_line.get_label()}\")\n",
    "# Connect the pick event to the toggle function\n",
    "fig.canvas.mpl_connect('pick_event', lambda event: my_plot_utilities.on_pick(event, lines, legend, fig))\n",
    "# Debug: Check if the event connection works\n",
    "print(\"Event connections established. Ready to show the plot.\")\n",
    "print(\"Figure size:\", fig.get_size_inches())\n",
    "print(\"Figure DPI:\", fig.get_dpi())\n"
   ]
  },
  {
   "cell_type": "code",
   "execution_count": null,
   "metadata": {},
   "outputs": [],
   "source": [
    "## Adjust layout\n",
    "# Rotate the date labels for better readability\n",
    "plt.xticks(rotation=45)\n",
    "# Tight layout to avoid clipping of legend\n",
    "plt.tight_layout()\n"
   ]
  },
  {
   "cell_type": "code",
   "execution_count": null,
   "metadata": {},
   "outputs": [],
   "source": [
    "# Save image and show the plot\n",
    "images_store_path = fr\"{cwd}/IMAGES\"\n",
    "plt.savefig(rf\"{images_store_path}/{target_date}--{spitbran_config.cfg_latitude}-{spitbran_config.cfg_longitude}--sst.png\", dpi=300, bbox_inches=\"tight\")\n",
    "# Show the plot\n",
    "plt.show()"
   ]
  }
 ],
 "metadata": {
  "kernelspec": {
   "display_name": "Python 3 (ipykernel)",
   "language": "python",
   "name": "python3"
  },
  "language_info": {
   "codemirror_mode": {
    "name": "ipython",
    "version": 3
   },
   "file_extension": ".py",
   "mimetype": "text/x-python",
   "name": "python",
   "nbconvert_exporter": "python",
   "pygments_lexer": "ipython3",
   "version": "3.12.7"
  }
 },
 "nbformat": 4,
 "nbformat_minor": 4
}
